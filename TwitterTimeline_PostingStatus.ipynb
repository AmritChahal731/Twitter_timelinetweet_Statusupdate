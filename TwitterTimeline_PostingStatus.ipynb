{
 "cells": [
  {
   "cell_type": "code",
   "execution_count": 1,
   "metadata": {},
   "outputs": [
    {
     "name": "stdout",
     "output_type": "stream",
     "text": [
      "Requirement already satisfied: tweepy in c:\\users\\amich\\pycharmprojects\\untitled3\\venv\\lib\\site-packages (3.8.0)\n",
      "Requirement already satisfied: PySocks>=1.5.7 in c:\\users\\amich\\pycharmprojects\\untitled3\\venv\\lib\\site-packages (from tweepy) (1.7.1)\n",
      "Requirement already satisfied: six>=1.10.0 in c:\\users\\amich\\pycharmprojects\\untitled3\\venv\\lib\\site-packages (from tweepy) (1.15.0)\n",
      "Requirement already satisfied: requests-oauthlib>=0.7.0 in c:\\users\\amich\\pycharmprojects\\untitled3\\venv\\lib\\site-packages (from tweepy) (1.3.0)\n",
      "Requirement already satisfied: requests>=2.11.1 in c:\\users\\amich\\pycharmprojects\\untitled3\\venv\\lib\\site-packages (from tweepy) (2.24.0)\n",
      "Requirement already satisfied: oauthlib>=3.0.0 in c:\\users\\amich\\pycharmprojects\\untitled3\\venv\\lib\\site-packages (from requests-oauthlib>=0.7.0->tweepy) (3.1.0)\n",
      "Requirement already satisfied: idna<3,>=2.5 in c:\\users\\amich\\pycharmprojects\\untitled3\\venv\\lib\\site-packages (from requests>=2.11.1->tweepy) (2.10)\n",
      "Requirement already satisfied: urllib3!=1.25.0,!=1.25.1,<1.26,>=1.21.1 in c:\\users\\amich\\pycharmprojects\\untitled3\\venv\\lib\\site-packages (from requests>=2.11.1->tweepy) (1.25.9)\n",
      "Requirement already satisfied: chardet<4,>=3.0.2 in c:\\users\\amich\\pycharmprojects\\untitled3\\venv\\lib\\site-packages (from requests>=2.11.1->tweepy) (3.0.4)\n",
      "Requirement already satisfied: certifi>=2017.4.17 in c:\\users\\amich\\pycharmprojects\\untitled3\\venv\\lib\\site-packages (from requests>=2.11.1->tweepy) (2020.6.20)\n"
     ]
    }
   ],
   "source": [
    "!pip install tweepy"
   ]
  },
  {
   "cell_type": "code",
   "execution_count": 31,
   "metadata": {},
   "outputs": [],
   "source": [
    "#importing libraries for Twitter Analysis\n",
    "import tweepy as tp     "
   ]
  },
  {
   "cell_type": "code",
   "execution_count": 32,
   "metadata": {},
   "outputs": [],
   "source": [
    "import os\n",
    "import csv\n"
   ]
  },
  {
   "cell_type": "code",
   "execution_count": 33,
   "metadata": {},
   "outputs": [],
   "source": [
    "#credentials from twitter developer account to access Twitter API\n",
    "API_KEY = \"KEmBKiAHY4VSi8y7WUEAgYx0G\"\n",
    "API_SECRET_KEY = \"9CYCUAfTfOjWPOSiNfLHPC8dilH8Sno9UyoM4mWorRrZpC5Zio\"\n",
    "ACCESS_TOKEN = \"1263110779458420740-Ah9wqjpKGhwKpEp3xLQd4aSbXxJT3o\"\n",
    "ACCESS_TOKEN_SECRET = \"9H8AVlNYJCixKE5wXPYllZ0vzBw7xihYqFCh3NuoOFoRl\""
   ]
  },
  {
   "cell_type": "code",
   "execution_count": 39,
   "metadata": {},
   "outputs": [],
   "source": [
    "#setting up tweepy to authenticate with Twitter \n",
    "authentication = tp.OAuthHandler(API_KEY,API_SECRET_KEY)\n",
    "authentication.set_access_token(ACCESS_TOKEN,ACCESS_TOKEN_SECRET)\n",
    "#creating an API object to pull data from Twitter and passing in the authentication\n",
    "api = tp.API(authentication,wait_on_rate_limit=True)"
   ]
  },
  {
   "cell_type": "code",
   "execution_count": 40,
   "metadata": {},
   "outputs": [],
   "source": [
    "#Searching Tweets using keywords\n",
    "\n",
    "search_word=\"#datascience\"   #searching keyword without removing retweets\n",
    "date_since=\"2020-07-11\""
   ]
  },
  {
   "cell_type": "code",
   "execution_count": 57,
   "metadata": {},
   "outputs": [
    {
     "name": "stdout",
     "output_type": "stream",
     "text": [
      "U.S. research cruises resume, gingerly \n",
      "\n",
      "READ MORE: https://t.co/CyzqYgpWs9\n",
      "\n",
      "#Art #Astronomy #BigData #Biology #Chemistry #Class #ComputerScience #data #DataScience #Earth* https://t.co/SGf7r0pU91\n",
      "Moving From #DataScience To #MachineLearning Engineering\n",
      "by Caleb Kaiser @TDataScience @Medium\n",
      "\n",
      "Read more https://t.co/We0d6g4NSp\n",
      "\n",
      "#AI #IoT #BigData #ArtificialIntelligence #ML #Data\n",
      "\n",
      "Cc: @mikeschiemer @elisequevedo @grattongirl https://t.co/qLYBjnuweh\n",
      "Word(s) of the day: Artificial Intelligence. Check out our apparel!! #datascience #artificialintelligence #machinelearning #ai #ml #cloudcomputing #bigdata #bigdataanalytics #analytics #fintech #neuralnetworks #python #hadoop #deeplearning https://t.co/ZzUcIeJamt\n",
      "Researchers are revolutionizing gaming by testing development assisted by AI 🎉⁠\n",
      "⁠\n",
      "Unlock the Potential of Machine Learning. https://t.co/m55rdX0qTX⁠\n",
      "⁠\n",
      "#artificialintelligence #ai #machinelearning #datascience #deeplearning #technology #cloud #infrastructure https://t.co/isLQzIupYs\n",
      "How ASX investors can profit from the cloud computing boom // Motley Fool Australia \n",
      "\n",
      "READ MORE: https://t.co/EihPjz69Sc\n",
      "\n",
      "#AWS #Cloud #CloudComputing #Computers #Computing #DataScience #Future #Intranet #IoT #Microsoft https://t.co/Yp7efcD87W\n",
      "Check out a few more ODSC Europe 2020 speakers here and get a taste of what's to come this September! #DataScience #MachineLearning https://t.co/2Dm13Gflpl\n",
      "Check out my \"R Exercise: Estimating the Exponent in Pythagorean Expectation\" at this link: https://t.co/tdAyCfVHem\n",
      "\n",
      "#rstats \n",
      "#DataScience \n",
      "#NBA\n",
      "Science World rallies power of young Dr. Bonnie Henry as it faces a $13M loss due to COVID-19 | CBC News \n",
      "\n",
      "READ MORE: https://t.co/iHETM8wSDh\n",
      "\n",
      "#Art #Astronomy #BigData #Biology #Chemistry #Class #ComputerScience #data #DataScience #Earth https://t.co/ljsA6Jt6nU\n",
      "Mastering Hadoop 3: Big data processing at scale to unlock unique business insights https://t.co/tVzu02OuGw  #datascience #ad\n",
      "PySpark Cookbook: Over 60 recipes for implementing big data processing and analytics using Apache Spark and Python https://t.co/sG2wMsK2FY  #datascience #ad\n"
     ]
    }
   ],
   "source": [
    "#Collecting tweets\n",
    "\n",
    "tweets= tp.Cursor(api.search, q=search_word, lang=\"en\", since=date_since, result_type=\"latest\", tweet_mode='extended' ).items(10)\n",
    "\n",
    "# for priniting tweets of specific keyword\n",
    "for tweet in tweets:\n",
    "     print(tweet.full_text)"
   ]
  },
  {
   "cell_type": "code",
   "execution_count": 42,
   "metadata": {},
   "outputs": [],
   "source": [
    "#Cleaning Tweets by removing retweets  \n",
    "                                            \n",
    "search_word=\"#datascience\" \n",
    "date_since=\"2020-07-11\"\n"
   ]
  },
  {
   "cell_type": "code",
   "execution_count": 52,
   "metadata": {},
   "outputs": [
    {
     "name": "stdout",
     "output_type": "stream",
     "text": [
      "@KeithWDonally @CBCAlerts They are working on it.  It is a compliment, not racism.  It is just an obsolete word, that's all.  It comes from Edmonton's origination as a jumping off point for going to the Klondike in the far north to search for gold.\n",
      "The word of the month is entanglement. The search and recovery team for Naya used it and then Jada... and now everyone on the internet is making it trend... lol I love the collective conscious.\n",
      "@TanyaFrancaESOL @Toppel_ELD @ValentinaESL @emilyfranESL @AndreaHonigsfel @CMcDavid_GCSD Oh goody!  A cognate search / trans language study 😂😂.  I’ll print it out and see how much I get right. Got my word to word dictionary ready.  🎊🎉🤪\n",
      "Fallout 4 | The potential word when you go to war with another Nuclear power with lots of hate and desire for resources\n",
      "\n",
      "The constant search for ammo lol\n",
      "\n",
      "#Fallout4 #Streamer #FacebookGaming \n",
      "\n",
      "Stream:\n",
      "\n",
      "https://t.co/894FHJiA2l\n",
      "\n",
      "Support Link :\n",
      "\n",
      "https://t.co/6JRZxdNarG https://t.co/Jse5fFa2db\n",
      "@AJagiellon The timing and relationship of all this is just way too convenient.\n",
      "\n",
      "The \"src usa\" word search and Tom Hanks' insta with \"src usa\" seen written on the ground.\n",
      "\n",
      "The \"Isabelle &amp; Max\" 3rd party selling overpriced nursery art on Wayfair - Ghislaine's sister is named Isabel Maxwell.\n",
      "RIND.GIF (48x39 pixels, search word: she'll)\n",
      "\n",
      "GIF:\n",
      "https://t.co/m1xzos1KoC\n",
      "Page:\n",
      "https://t.co/aoqeMIbMkN https://t.co/aHezfScZZu\n",
      "@ReporterStarr No.\n",
      "\n",
      "We happened to be doing post overhaul workups off Bermuda when we got the word to search. Other boats received the same message.\n",
      "\n",
      "We only searched for a few days. Turns out that we were nowhere near where she went down.\n",
      "\n",
      "No commendations for doing your job.\n",
      "my sisters friend called me really worried about thinking my sister was missing bc she went camping for 6days wit no word from her so i turned into an FBI agent called police departments, t mobile hacked her iCloud, &amp; found her location then had a whole search party be sent out\n",
      "@DavidHundeyin @otherfaceofgod First off, this was not a conspiracy theory- a simple Google search would have confirmed this. Secondly, I used the word \"Mind control\" in quotes specifically because I anticipated a response like this, meaning I recognize there was more to the term.\n",
      "If you need cheering up, put the word ‘sploot’ into a google image search and browse :)\n"
     ]
    }
   ],
   "source": [
    "#Collection of tweets without retweets\n",
    "\n",
    "tweets= tp.Cursor(api.search, q=\"search_word\"+\"-filter:retweets\", lang=\"en\", since=date_since, result_type=\"latest\",\n",
    "                  tweet_mode='extended' ).items(10)      #removing retweets using filter\n",
    "\n",
    "# for priniting tweets of specific keyword\n",
    "for tweet in tweets:\n",
    "     print(tweet.full_text)"
   ]
  },
  {
   "cell_type": "code",
   "execution_count": 56,
   "metadata": {},
   "outputs": [
    {
     "name": "stdout",
     "output_type": "stream",
     "text": [
      "2020-07-12 00:21:01 \n",
      " ChallengeDac \n",
      " 5,000 CHL task Challenge on the ChallengeEOS app🙌🙌 https://t.co/EOjKnMizwQ #cryptocurrency #dapp #Crypto #Blockchain #chltoken \n",
      " San Diego , USA 📷\n",
      "2020-07-12 00:16:59 \n",
      " cryptoexp38560E \n",
      " $ICX All targets Hit! 15% Profit 🚀🔥\n",
      "\n",
      "Free crypto channel, Join https://t.co/zTvMcE8p2e\n",
      "\n",
      "$GNT $DREP $TRUE $OGN $BCD… https://t.co/toCmNp6WZq \n",
      " \n",
      "2020-07-12 00:16:32 \n",
      " TokenJay \n",
      " Daily Discussion - July 12, 2020 (GMT+0) https://t.co/BLqu5af730 #CryptoCurrency (from Reddit) \n",
      " \n",
      "2020-07-12 00:05:06 \n",
      " Cryptomains \n",
      " This time is different and we are going to reach new bigger ATHs on enriching #crypto \n",
      " World\n",
      "2020-07-12 00:04:33 \n",
      " Cryptomains \n",
      " That’s why only 1% will wins, bcoz they’ll hold it for lifetime to ride with market makers to the moon! \n",
      " World\n",
      "2020-07-12 00:04:33 \n",
      " Cryptomains \n",
      " 99% traders already seen the waves and just waiting for price action to SAME ATH to sell, but the truth is 90% exit… https://t.co/17flty2Zmc \n",
      " World\n",
      "2020-07-12 00:04:33 \n",
      " Cryptomains \n",
      " That’s why psychologically 99% holders and traders exists from their positions, and crypto become centralized, but… https://t.co/yJ8lPG9XBM \n",
      " World\n",
      "2020-07-12 00:04:32 \n",
      " Cryptomains \n",
      " So. All this story applies for alts, and i feel 2009-2020 were just a big accumulations of crypto before the new pa… https://t.co/cVMDXx75ku \n",
      " World\n",
      "2020-07-12 00:04:32 \n",
      " Cryptomains \n",
      " And conclusion is: they’ll reached their targets to have 90% of coins as soon as you sell it to GOVs. And i feel 99… https://t.co/5WqpnjM665 \n",
      " World\n",
      "2020-07-12 00:04:31 \n",
      " Cryptomains \n",
      " Summary: i already told that all few years ago, but i feel nobody understands what market maker means, so they crea… https://t.co/ROxECcizoG \n",
      " World\n",
      "2020-07-12 00:04:31 \n",
      " Cryptomains \n",
      " About Bitcoin and why they were scared, there are few options:\n",
      "\n",
      "1. It centralized and they scared they can’t contro… https://t.co/P0AlvnamTV \n",
      " World\n",
      "2020-07-12 00:04:31 \n",
      " Cryptomains \n",
      " So if they decides to take profit for USD in any market - the real value of that market will go to zero, that’s why… https://t.co/bm4j1Hm7Ob \n",
      " World\n",
      "2020-07-12 00:04:30 \n",
      " Cryptomains \n",
      " So that’s why they named market makers, bcoz they are creating a price of something (crypto, gold, usd, so on). Sam… https://t.co/AIbW71D727 \n",
      " World\n",
      "2020-07-12 00:04:30 \n",
      " Cryptomains \n",
      " So what i mean: market makers (GOVs), they will never sell crypto to earn USD anymore, bcoz they killing USD, it’s… https://t.co/rtE3WPoEsv \n",
      " World\n",
      "2020-07-12 00:01:10 \n",
      " Amritpa09271360 \n",
      " Hi, I'm tweeting from Python! let's try more \n",
      " \n",
      "2020-07-11 23:56:55 \n",
      " cryptoexp38560C \n",
      " $ICX All targets Hit! 15% Profit 🚀🔥\n",
      "\n",
      "For more Free signals, Join https://t.co/GDGN4RY9AG\n",
      "\n",
      "$MCO $ELF $BTC $AE $KEY… https://t.co/eKAlJEA68y \n",
      " \n",
      "2020-07-11 23:51:04 \n",
      " JWilliamsFstmed \n",
      " I would treat myself to this I think.   https://t.co/lvH4J2KUY3 \n",
      " Raleigh, NC\n",
      "2020-07-11 23:36:02 \n",
      " TokenJay \n",
      " Unlimited day trades on crypto? https://t.co/uc0PJdiPLf #CryptoCurrency (from Reddit) \n",
      " \n",
      "2020-07-11 23:34:14 \n",
      " Cryptomains \n",
      " You have 10,000 coins worth $10,000 and you have $1,000,000 paper yet, and you need to buy a house worth $1,000,000… https://t.co/LX4F3XadEa \n",
      " World\n"
     ]
    }
   ],
   "source": [
    "# getting tweets from timeline using api object\n",
    "Timeline_tweets = api.home_timeline() \n",
    "for single_tweet in Timeline_tweets:\n",
    "print ( single_tweet.created_at,\"\\n\", single_tweet.user.screen_name ,\"\\n\", single_tweet.text, \"\\n\", single_tweet.user.location)"
   ]
  },
  {
   "cell_type": "code",
   "execution_count": 58,
   "metadata": {},
   "outputs": [
    {
     "data": {
      "text/plain": [
       "Status(_api=<tweepy.api.API object at 0x02BA1388>, _json={'created_at': 'Sun Jul 12 00:28:03 +0000 2020', 'id': 1282109432130830336, 'id_str': '1282109432130830336', 'text': \"Hi, I'm tweeting from Jupyter_Notebook_Python\", 'truncated': False, 'entities': {'hashtags': [], 'symbols': [], 'user_mentions': [], 'urls': []}, 'source': '<a href=\"http://linkedin.com/in/amy-l-91438b17a\" rel=\"nofollow\">First-AMrit-App</a>', 'in_reply_to_status_id': None, 'in_reply_to_status_id_str': None, 'in_reply_to_user_id': None, 'in_reply_to_user_id_str': None, 'in_reply_to_screen_name': None, 'user': {'id': 1263110779458420740, 'id_str': '1263110779458420740', 'name': 'Amritpal Kaur', 'screen_name': 'Amritpa09271360', 'location': '', 'description': '', 'url': None, 'entities': {'description': {'urls': []}}, 'protected': False, 'followers_count': 2, 'friends_count': 60, 'listed_count': 0, 'created_at': 'Wed May 20 14:14:25 +0000 2020', 'favourites_count': 0, 'utc_offset': None, 'time_zone': None, 'geo_enabled': False, 'verified': False, 'statuses_count': 3, 'lang': None, 'contributors_enabled': False, 'is_translator': False, 'is_translation_enabled': False, 'profile_background_color': 'F5F8FA', 'profile_background_image_url': None, 'profile_background_image_url_https': None, 'profile_background_tile': False, 'profile_image_url': 'http://abs.twimg.com/sticky/default_profile_images/default_profile_normal.png', 'profile_image_url_https': 'https://abs.twimg.com/sticky/default_profile_images/default_profile_normal.png', 'profile_link_color': '1DA1F2', 'profile_sidebar_border_color': 'C0DEED', 'profile_sidebar_fill_color': 'DDEEF6', 'profile_text_color': '333333', 'profile_use_background_image': True, 'has_extended_profile': False, 'default_profile': True, 'default_profile_image': True, 'following': False, 'follow_request_sent': False, 'notifications': False, 'translator_type': 'none'}, 'geo': None, 'coordinates': None, 'place': None, 'contributors': None, 'is_quote_status': False, 'retweet_count': 0, 'favorite_count': 0, 'favorited': False, 'retweeted': False, 'lang': 'en'}, created_at=datetime.datetime(2020, 7, 12, 0, 28, 3), id=1282109432130830336, id_str='1282109432130830336', text=\"Hi, I'm tweeting from Jupyter_Notebook_Python\", truncated=False, entities={'hashtags': [], 'symbols': [], 'user_mentions': [], 'urls': []}, source='First-AMrit-App', source_url='http://linkedin.com/in/amy-l-91438b17a', in_reply_to_status_id=None, in_reply_to_status_id_str=None, in_reply_to_user_id=None, in_reply_to_user_id_str=None, in_reply_to_screen_name=None, author=User(_api=<tweepy.api.API object at 0x02BA1388>, _json={'id': 1263110779458420740, 'id_str': '1263110779458420740', 'name': 'Amritpal Kaur', 'screen_name': 'Amritpa09271360', 'location': '', 'description': '', 'url': None, 'entities': {'description': {'urls': []}}, 'protected': False, 'followers_count': 2, 'friends_count': 60, 'listed_count': 0, 'created_at': 'Wed May 20 14:14:25 +0000 2020', 'favourites_count': 0, 'utc_offset': None, 'time_zone': None, 'geo_enabled': False, 'verified': False, 'statuses_count': 3, 'lang': None, 'contributors_enabled': False, 'is_translator': False, 'is_translation_enabled': False, 'profile_background_color': 'F5F8FA', 'profile_background_image_url': None, 'profile_background_image_url_https': None, 'profile_background_tile': False, 'profile_image_url': 'http://abs.twimg.com/sticky/default_profile_images/default_profile_normal.png', 'profile_image_url_https': 'https://abs.twimg.com/sticky/default_profile_images/default_profile_normal.png', 'profile_link_color': '1DA1F2', 'profile_sidebar_border_color': 'C0DEED', 'profile_sidebar_fill_color': 'DDEEF6', 'profile_text_color': '333333', 'profile_use_background_image': True, 'has_extended_profile': False, 'default_profile': True, 'default_profile_image': True, 'following': False, 'follow_request_sent': False, 'notifications': False, 'translator_type': 'none'}, id=1263110779458420740, id_str='1263110779458420740', name='Amritpal Kaur', screen_name='Amritpa09271360', location='', description='', url=None, entities={'description': {'urls': []}}, protected=False, followers_count=2, friends_count=60, listed_count=0, created_at=datetime.datetime(2020, 5, 20, 14, 14, 25), favourites_count=0, utc_offset=None, time_zone=None, geo_enabled=False, verified=False, statuses_count=3, lang=None, contributors_enabled=False, is_translator=False, is_translation_enabled=False, profile_background_color='F5F8FA', profile_background_image_url=None, profile_background_image_url_https=None, profile_background_tile=False, profile_image_url='http://abs.twimg.com/sticky/default_profile_images/default_profile_normal.png', profile_image_url_https='https://abs.twimg.com/sticky/default_profile_images/default_profile_normal.png', profile_link_color='1DA1F2', profile_sidebar_border_color='C0DEED', profile_sidebar_fill_color='DDEEF6', profile_text_color='333333', profile_use_background_image=True, has_extended_profile=False, default_profile=True, default_profile_image=True, following=False, follow_request_sent=False, notifications=False, translator_type='none'), user=User(_api=<tweepy.api.API object at 0x02BA1388>, _json={'id': 1263110779458420740, 'id_str': '1263110779458420740', 'name': 'Amritpal Kaur', 'screen_name': 'Amritpa09271360', 'location': '', 'description': '', 'url': None, 'entities': {'description': {'urls': []}}, 'protected': False, 'followers_count': 2, 'friends_count': 60, 'listed_count': 0, 'created_at': 'Wed May 20 14:14:25 +0000 2020', 'favourites_count': 0, 'utc_offset': None, 'time_zone': None, 'geo_enabled': False, 'verified': False, 'statuses_count': 3, 'lang': None, 'contributors_enabled': False, 'is_translator': False, 'is_translation_enabled': False, 'profile_background_color': 'F5F8FA', 'profile_background_image_url': None, 'profile_background_image_url_https': None, 'profile_background_tile': False, 'profile_image_url': 'http://abs.twimg.com/sticky/default_profile_images/default_profile_normal.png', 'profile_image_url_https': 'https://abs.twimg.com/sticky/default_profile_images/default_profile_normal.png', 'profile_link_color': '1DA1F2', 'profile_sidebar_border_color': 'C0DEED', 'profile_sidebar_fill_color': 'DDEEF6', 'profile_text_color': '333333', 'profile_use_background_image': True, 'has_extended_profile': False, 'default_profile': True, 'default_profile_image': True, 'following': False, 'follow_request_sent': False, 'notifications': False, 'translator_type': 'none'}, id=1263110779458420740, id_str='1263110779458420740', name='Amritpal Kaur', screen_name='Amritpa09271360', location='', description='', url=None, entities={'description': {'urls': []}}, protected=False, followers_count=2, friends_count=60, listed_count=0, created_at=datetime.datetime(2020, 5, 20, 14, 14, 25), favourites_count=0, utc_offset=None, time_zone=None, geo_enabled=False, verified=False, statuses_count=3, lang=None, contributors_enabled=False, is_translator=False, is_translation_enabled=False, profile_background_color='F5F8FA', profile_background_image_url=None, profile_background_image_url_https=None, profile_background_tile=False, profile_image_url='http://abs.twimg.com/sticky/default_profile_images/default_profile_normal.png', profile_image_url_https='https://abs.twimg.com/sticky/default_profile_images/default_profile_normal.png', profile_link_color='1DA1F2', profile_sidebar_border_color='C0DEED', profile_sidebar_fill_color='DDEEF6', profile_text_color='333333', profile_use_background_image=True, has_extended_profile=False, default_profile=True, default_profile_image=True, following=False, follow_request_sent=False, notifications=False, translator_type='none'), geo=None, coordinates=None, place=None, contributors=None, is_quote_status=False, retweet_count=0, favorite_count=0, favorited=False, retweeted=False, lang='en')"
      ]
     },
     "execution_count": 58,
     "metadata": {},
     "output_type": "execute_result"
    }
   ],
   "source": [
    "#Posting a status on Timeline\n",
    "\n",
    "api.update_status(\"Hi, I'm tweeting from Jupyter_Notebook_Python\")"
   ]
  },
  {
   "cell_type": "code",
   "execution_count": null,
   "metadata": {},
   "outputs": [],
   "source": []
  }
 ],
 "metadata": {
  "kernelspec": {
   "display_name": "Python 3",
   "language": "python",
   "name": "python3"
  },
  "language_info": {
   "codemirror_mode": {
    "name": "ipython",
    "version": 3
   },
   "file_extension": ".py",
   "mimetype": "text/x-python",
   "name": "python",
   "nbconvert_exporter": "python",
   "pygments_lexer": "ipython3",
   "version": "3.8.3"
  }
 },
 "nbformat": 4,
 "nbformat_minor": 4
}
